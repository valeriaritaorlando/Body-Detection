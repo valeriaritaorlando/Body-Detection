{
 "cells": [
  {
   "cell_type": "markdown",
   "metadata": {},
   "source": [
    "# Importazione librerie e dichiarazione dei percorsi delle cartelle"
   ]
  },
  {
   "cell_type": "code",
   "execution_count": 1,
   "metadata": {},
   "outputs": [],
   "source": [
    "import numpy as np\n",
    "import cv2\n",
    "import os\n",
    "from tqdm import tqdm\n",
    "import random\n",
    "import joblib\n",
    "import pickle\n",
    "\n",
    "from sklearn.svm import LinearSVC\n",
    "from sklearn.decomposition import PCA\n",
    "from sklearn.metrics import f1_score\n",
    "\n",
    "from collections import Counter\n",
    "import matplotlib.pyplot as plt"
   ]
  },
  {
   "cell_type": "code",
   "execution_count": 2,
   "metadata": {},
   "outputs": [],
   "source": [
    "# Percorso dove si trovano le cartelle\n",
    "main_path = \"C:/Users/valer/OneDrive/Desktop/Magistrale/\"\n",
    "\n",
    "image_folder = main_path + \"WiderPerson/Images/\"\n",
    "annotations_folder = main_path + \"WiderPerson/Annotations\"\n",
    "\n",
    "# Percorsi dei file di suddivisione e delle immagini\n",
    "train_split_file = main_path + \"Data_Assignment_2/split_positive/train_assignment.txt\"\n",
    "val_split_file = main_path + \"Data_Assignment_2/split_positive/val_assignment.txt\"\n",
    "test_split_file = main_path + \"Data_Assignment_2/split_positive/test_assignment.txt\"\n",
    "\n",
    "# Definizione dei percorsi delle cartelle con le immagini negative\n",
    "negative_train_folder = main_path + \"Data_Assignment_2/negative/train_neg/train_neg\"\n",
    "negative_val_folder = main_path + \"Data_Assignment_2/negative/val_neg/val_neg\"\n",
    "negative_test_folder = main_path + \"Data_Assignment_2/negative/test_neg/neg\""
   ]
  },
  {
   "cell_type": "markdown",
   "metadata": {},
   "source": [
    "# 1&2. Prepazione del Dataset"
   ]
  },
  {
   "cell_type": "markdown",
   "metadata": {},
   "source": [
    "Varie definizioni di funzioni"
   ]
  },
  {
   "cell_type": "code",
   "execution_count": 3,
   "metadata": {},
   "outputs": [],
   "source": [
    "# Definizione della dimensione della finestra\n",
    "W, H = 64, 128"
   ]
  },
  {
   "cell_type": "markdown",
   "metadata": {},
   "source": [
    "Definizione di funzioni per la creazione del dataset"
   ]
  },
  {
   "cell_type": "code",
   "execution_count": 4,
   "metadata": {},
   "outputs": [],
   "source": [
    "# Definizione della dimensione della bounding box di base\n",
    "W, H = 64, 128\n",
    "\n",
    "# Definizione della funzione per leggere il file di annotazione\n",
    "def read_annotations_from_file(annotation_file):\n",
    "    annotations = []\n",
    "    with open(annotation_file, 'r') as file:\n",
    "        lines = file.readlines()\n",
    "        for line in lines[1:]:  # Ignoriamo la prima riga poichè è il numero di annotazioni\n",
    "            annotation_info = line.strip().split()\n",
    "            class_label = int(annotation_info[0])\n",
    "            x1, y1, x2, y2 = map(int, annotation_info[1:])\n",
    "            if class_label == 1:\n",
    "                annotations.append({'class_label': class_label, 'x1': x1, 'y1': y1, 'x2': x2, 'y2': y2})\n",
    "    return annotations\n",
    "\n",
    "# Definisco funzione per estrarre gli HOG_DESCRIPTOR\n",
    "def extract_hog_descriptor(image):\n",
    "    # Creazione di un oggetto HOGDescriptor\n",
    "    hog = cv2.HOGDescriptor()   # i parametri di default hanno la winSize=(64,128)\n",
    "    # Calcolo del descrittore HOG per l'immagine\n",
    "    hog_descriptor = hog.compute(image)\n",
    "\n",
    "    return hog_descriptor\n",
    "\n",
    "# Definisco funzione per preparare i dati\n",
    "def prepare_data(image_path, annotations, output_size=(W, H), image_name=None):\n",
    "    \n",
    "    image = cv2.imread(image_path)\n",
    "    \n",
    "    hog_positive_samples = []\n",
    "    \n",
    "    for annotation in annotations:\n",
    "        class_label = annotation['class_label']\n",
    "        if class_label == 1:  # Controlla se l'etichetta della classe è uguale a 1\n",
    "            try:\n",
    "                x1, y1, x2, y2 = annotation['x1'], annotation['y1'], annotation['x2'], annotation['y2']  # Aggiornamento delle chiavi\n",
    "                # Effettuo il crop dell'immagine\n",
    "                cropped_image = image[y1:y2, x1:x2]  # Aggiornamento dei valori di ritaglio\n",
    "                \n",
    "                # Resize dell'immagine\n",
    "                resized_image = cv2.resize(cropped_image, output_size)\n",
    "\n",
    "                # Estrazione degli Hog\n",
    "                hog_descriptor = extract_hog_descriptor(resized_image)\n",
    "                \n",
    "                hog_positive_samples.append([class_label, hog_descriptor])\n",
    "            except Exception as e:\n",
    "                print(f\"Errore durante la preparazione dei dati dell'immagine {image_path}: {e}\")\n",
    "    \n",
    "    return hog_positive_samples\n",
    "\n",
    "# Definisco funzione che genera i campioni negativi\n",
    "def generate_negative_samples(image_path, num_samples, window_size=(W, H)):\n",
    "    image = cv2.imread(image_path)\n",
    "    height, width, _ = image.shape\n",
    "\n",
    "    window_size = [0,0]\n",
    "    \n",
    "    if width <= height:\n",
    "        window_size[0] = width//2 - ((width//2) % 2)\n",
    "        window_size[1] = window_size[0] * 2\n",
    "    else:\n",
    "        window_size[1] = height//2 - ((height//2) % 2)\n",
    "        window_size[0] = window_size[1] / 2\n",
    "\n",
    "    hog_negative_samples = []\n",
    "    \n",
    "    for _ in range(num_samples):\n",
    "\n",
    "        scala_casuale = np.random.randint(1, 4)\n",
    "\n",
    "        window_scaled = [int(window_size[0] // scala_casuale), int(window_size[1] // scala_casuale)]\n",
    "\n",
    "        x = np.random.randint(0, width - window_scaled[0])\n",
    "        y = np.random.randint(0, height - window_scaled[1])\n",
    "\n",
    "        # Crop della finestra\n",
    "        window = image[y:y+ window_scaled[1], x:x+ window_scaled[0]]\n",
    "\n",
    "        # Resize dell'immagine\n",
    "        resized_image = cv2.resize(window, (64,128))\n",
    "\n",
    "        # Estrazione hog\n",
    "        hog_descriptor = extract_hog_descriptor(resized_image)\n",
    "        \n",
    "        hog_negative_samples.append([0, hog_descriptor])\n",
    "    \n",
    "    return hog_negative_samples\n",
    "\n",
    "def generate_negative_samples_from_folder(folder_path, output_size=(W, H)):\n",
    "    hog_negative_samples = []\n",
    "    filenames = os.listdir(folder_path)\n",
    "    for filename in tqdm(filenames, desc='Generate Negative Samples'):\n",
    "        image_path = os.path.join(folder_path, filename)\n",
    "        num_samples = 100\n",
    "        negative_samples = generate_negative_samples(image_path, num_samples, output_size)\n",
    "        hog_negative_samples.extend(negative_samples)\n",
    "    return hog_negative_samples\n",
    "\n",
    "\n",
    "# ---------------------------------------------- SPLIT DATASET ------------------------------------------\n",
    "# Leggere i file di suddivisione\n",
    "def read_split_file(split_file):\n",
    "    with open(split_file, 'r') as file:\n",
    "        image_names = file.read().splitlines()\n",
    "    return image_names\n",
    "\n",
    "# Funzione per distribuire le immagini nei set di dati\n",
    "def split_images(image_names, image_folder,annotations_folder):\n",
    "    data = []\n",
    "    annotations_list = []\n",
    "\n",
    "    for image_name in tqdm(image_names, desc=\"Generate Positive Samples\"):\n",
    "        image_path = os.path.join(image_folder, image_name + '.jpg')\n",
    "        annotations_path = os.path.join(annotations_folder, image_name + '.jpg.txt')\n",
    "        annotations = read_annotations_from_file(annotations_path)\n",
    "        annotations_list.extend(annotations)\n",
    "        # Procediamo nel preparare i dati andando a calcolare gli HOG Descriptor\n",
    "        data.extend(prepare_data(image_path, annotations))\n",
    "    return data, annotations_list\n"
   ]
  },
  {
   "cell_type": "markdown",
   "metadata": {},
   "source": [
    "Genero i campioni Positivi"
   ]
  },
  {
   "cell_type": "code",
   "execution_count": 5,
   "metadata": {},
   "outputs": [],
   "source": [
    "# Ottenere i nomi delle immagini nei set di dati contenuti nella cartella split_positive\n",
    "train_names_positive = read_split_file(train_split_file)\n",
    "val_names_positive = read_split_file(val_split_file)\n",
    "test_names_positive = read_split_file(test_split_file)"
   ]
  },
  {
   "cell_type": "code",
   "execution_count": 5,
   "metadata": {},
   "outputs": [
    {
     "name": "stderr",
     "output_type": "stream",
     "text": [
      "Generate Positive Samples:  58%|█████▊    | 4027/7000 [00:32<00:21, 135.92it/s]"
     ]
    },
    {
     "name": "stdout",
     "output_type": "stream",
     "text": [
      "Errore durante la preparazione dei dati dell'immagine C:/Users/valer/OneDrive/Desktop/Magistrale/WiderPerson/Images/011765.jpg: OpenCV(4.9.0) D:\\a\\opencv-python\\opencv-python\\opencv\\modules\\imgproc\\src\\resize.cpp:4152: error: (-215:Assertion failed) !ssize.empty() in function 'cv::resize'\n",
      "\n",
      "Errore durante la preparazione dei dati dell'immagine C:/Users/valer/OneDrive/Desktop/Magistrale/WiderPerson/Images/011765.jpg: OpenCV(4.9.0) D:\\a\\opencv-python\\opencv-python\\opencv\\modules\\imgproc\\src\\resize.cpp:4152: error: (-215:Assertion failed) !ssize.empty() in function 'cv::resize'\n",
      "\n",
      "Errore durante la preparazione dei dati dell'immagine C:/Users/valer/OneDrive/Desktop/Magistrale/WiderPerson/Images/011765.jpg: OpenCV(4.9.0) D:\\a\\opencv-python\\opencv-python\\opencv\\modules\\imgproc\\src\\resize.cpp:4152: error: (-215:Assertion failed) !ssize.empty() in function 'cv::resize'\n",
      "\n"
     ]
    },
    {
     "name": "stderr",
     "output_type": "stream",
     "text": [
      "Generate Positive Samples: 100%|██████████| 7000/7000 [00:56<00:00, 124.93it/s]\n",
      "Generate Positive Samples: 100%|██████████| 1000/1000 [00:07<00:00, 129.96it/s]\n"
     ]
    }
   ],
   "source": [
    "# Genero i dataset dei positiviimage_folder\n",
    "train_positive_data, annotations = split_images(train_names_positive, image_folder, annotations_folder )\n",
    "val_positive_data, _ = split_images(val_names_positive, image_folder, annotations_folder)"
   ]
  },
  {
   "cell_type": "markdown",
   "metadata": {},
   "source": [
    "Genero i campioni negativi"
   ]
  },
  {
   "cell_type": "code",
   "execution_count": 6,
   "metadata": {},
   "outputs": [
    {
     "name": "stderr",
     "output_type": "stream",
     "text": [
      "Generate Negative Samples: 100%|██████████| 1015/1015 [00:21<00:00, 46.31it/s]\n",
      "Generate Negative Samples: 100%|██████████| 203/203 [00:04<00:00, 45.56it/s]\n"
     ]
    }
   ],
   "source": [
    "# Generazione degli HOG descriptor per i campioni negativi nei set di dati di addestramento, validazione e test\n",
    "train_negative_samples = generate_negative_samples_from_folder(negative_train_folder)\n",
    "val_negative_samples = generate_negative_samples_from_folder(negative_val_folder)\n",
    "test_negative_samples = generate_negative_samples_from_folder(negative_test_folder)"
   ]
  },
  {
   "cell_type": "code",
   "execution_count": 7,
   "metadata": {},
   "outputs": [],
   "source": [
    "def create_dataset(positive_data, negative_samples, percentuale=1):\n",
    "    positive_sample_size = int(percentuale * len(positive_data))\n",
    "    negative_sample_size = int(percentuale * len(negative_samples))\n",
    "    return random.sample(positive_data, positive_sample_size) + random.sample(negative_samples, negative_sample_size)"
   ]
  },
  {
   "cell_type": "code",
   "execution_count": 8,
   "metadata": {},
   "outputs": [],
   "source": [
    "# Unione dei campioni positivi e negativi nei set di dati di addestramento, validazione e test\n",
    "train_dataset = create_dataset(train_positive_data, train_negative_samples)\n",
    "val_dataset = create_dataset(val_positive_data, val_negative_samples)"
   ]
  },
  {
   "cell_type": "code",
   "execution_count": 9,
   "metadata": {},
   "outputs": [],
   "source": [
    "random.shuffle(train_dataset)\n",
    "random.shuffle(val_dataset)"
   ]
  },
  {
   "cell_type": "code",
   "execution_count": 10,
   "metadata": {},
   "outputs": [],
   "source": [
    "# Salvataggio del dataset di addestramento\n",
    "with open('train_dataset.pkl', 'wb') as f:\n",
    "    pickle.dump(train_dataset, f)\n",
    "\n",
    "# Salvataggio del dataset di validazione\n",
    "with open('val_dataset.pkl', 'wb') as f:\n",
    "    pickle.dump(val_dataset, f)\n"
   ]
  },
  {
   "cell_type": "code",
   "execution_count": 7,
   "metadata": {},
   "outputs": [],
   "source": [
    "# Caricamento del dataset di addestramento\n",
    "with open('train_dataset.pkl', 'rb') as f:\n",
    "    train_dataset = pickle.load(f)\n",
    "\n",
    "# Caricamento del dataset di validazione\n",
    "with open('val_dataset.pkl', 'rb') as f:\n",
    "    val_dataset = pickle.load(f)\n"
   ]
  },
  {
   "cell_type": "code",
   "execution_count": 8,
   "metadata": {},
   "outputs": [],
   "source": [
    "X_train = [item[1] for item in train_dataset]\n",
    "y_train = [item[0] for item in train_dataset]\n",
    "\n",
    "X_val = [item[1] for item in val_dataset]\n",
    "y_val = [item[0] for item in val_dataset]"
   ]
  },
  {
   "cell_type": "markdown",
   "metadata": {},
   "source": [
    "# 3. Pre-processing"
   ]
  },
  {
   "cell_type": "markdown",
   "metadata": {},
   "source": [
    "Come pre-processing degli hogDescriptor è stato scelto di usare la PCA in modo da mantenere soltano le features principali "
   ]
  },
  {
   "cell_type": "code",
   "execution_count": 12,
   "metadata": {},
   "outputs": [
    {
     "data": {
      "text/plain": [
       "['pca_model.pkl']"
      ]
     },
     "execution_count": 12,
     "metadata": {},
     "output_type": "execute_result"
    }
   ],
   "source": [
    "pca = PCA(0.95, svd_solver='full')\n",
    "pca.fit(X_train)\n",
    "\n",
    "# Salvataggio della PCA su disco\n",
    "joblib.dump(pca, 'pca_model.pkl')"
   ]
  },
  {
   "cell_type": "code",
   "execution_count": 6,
   "metadata": {},
   "outputs": [],
   "source": [
    "# Caricamento della PCA da disco\n",
    "pca = joblib.load('pca_model.pkl')"
   ]
  },
  {
   "cell_type": "code",
   "execution_count": 13,
   "metadata": {},
   "outputs": [],
   "source": [
    "hog_train = pca.transform(X_train)\n",
    "hog_val = pca.transform(X_val)\n",
    "\n",
    "# Inseriamo i vettori riga di new_hog in una lista in modo da comporre il dataset di train e validation\n",
    "X_train = [i for i in hog_train]\n",
    "X_val = [i for i in hog_val]"
   ]
  },
  {
   "cell_type": "markdown",
   "metadata": {},
   "source": [
    "Visualizziamo il numero di features rilevanti"
   ]
  },
  {
   "cell_type": "code",
   "execution_count": 14,
   "metadata": {},
   "outputs": [
    {
     "data": {
      "text/plain": [
       "1382"
      ]
     },
     "execution_count": 14,
     "metadata": {},
     "output_type": "execute_result"
    }
   ],
   "source": [
    "len(hog_train[0])"
   ]
  },
  {
   "cell_type": "markdown",
   "metadata": {},
   "source": [
    "# 4. Definizione del modello SVC"
   ]
  },
  {
   "cell_type": "code",
   "execution_count": 15,
   "metadata": {},
   "outputs": [
    {
     "name": "stderr",
     "output_type": "stream",
     "text": [
      "c:\\Users\\valer\\anaconda3\\Lib\\site-packages\\sklearn\\svm\\_base.py:1244: ConvergenceWarning: Liblinear failed to converge, increase the number of iterations.\n",
      "  warnings.warn(\n",
      "c:\\Users\\valer\\anaconda3\\Lib\\site-packages\\sklearn\\svm\\_base.py:1244: ConvergenceWarning: Liblinear failed to converge, increase the number of iterations.\n",
      "  warnings.warn(\n",
      "c:\\Users\\valer\\anaconda3\\Lib\\site-packages\\sklearn\\svm\\_base.py:1244: ConvergenceWarning: Liblinear failed to converge, increase the number of iterations.\n",
      "  warnings.warn(\n"
     ]
    },
    {
     "name": "stdout",
     "output_type": "stream",
     "text": [
      "[(0.01, 0.9046661985132092), (0.1, 0.9042542882062217), (1, 0.9042808343629625), (10, 0.9023765996343692), (100, 0.8644059230808107)]\n"
     ]
    },
    {
     "data": {
      "text/plain": [
       "['C:/Users/valer/OneDrive/Desktop/Magistrale/LinearSVC_model_with_PCA.pkl']"
      ]
     },
     "execution_count": 15,
     "metadata": {},
     "output_type": "execute_result"
    }
   ],
   "source": [
    "# Applico la GridSearch\n",
    "parameters = [0.01, 0.1, 1, 10, 100]\n",
    "\n",
    "best_f1 = 0\n",
    "report_c = []\n",
    "best_model = None\n",
    "for c in parameters:\n",
    "\n",
    "    # Addestramento del modello\n",
    "    classifier = LinearSVC(C=c)\n",
    "    classifier.fit(X_train, y_train)\n",
    "\n",
    "    # Valutazione del modello\n",
    "    y_pred_val = classifier.predict(X_val)\n",
    "    f1_val= f1_score(y_val,y_pred_val)\n",
    "\n",
    "    if f1_val > best_f1:\n",
    "        best_f1 = f1_val\n",
    "        best_model = classifier\n",
    "\n",
    "    report_c.append((c, f1_val))\n",
    "\n",
    "print(report_c)\n",
    "\n",
    "# Salvataggio del classificatore su disco\n",
    "joblib.dump(best_model, main_path + 'LinearSVC_model_with_PCA.pkl')"
   ]
  },
  {
   "cell_type": "code",
   "execution_count": 23,
   "metadata": {},
   "outputs": [],
   "source": [
    "# Caricamento del classificatore da disco senza PCA \n",
    "classifier = joblib.load(main_path + 'linear_svc_classifierBest_modelCon100noPCA.pkl')"
   ]
  },
  {
   "cell_type": "markdown",
   "metadata": {},
   "source": [
    "# 5. Sliding Window MultiScale"
   ]
  },
  {
   "cell_type": "markdown",
   "metadata": {},
   "source": [
    "## 5.1. Ricerca delle dimensioni medie delle immagini"
   ]
  },
  {
   "cell_type": "code",
   "execution_count": 8,
   "metadata": {},
   "outputs": [],
   "source": [
    "def find_dim_img(image_folder, train_names_positive, negative_train_folder):\n",
    "    dimensions_counter = Counter()\n",
    "    list_name_img = train_names_positive \n",
    "    filenames = os.listdir(negative_train_folder)\n",
    "\n",
    "    for image_name_positive in list_name_img:\n",
    "        imagepath = os.path.join(image_folder, image_name_positive)\n",
    "        image = cv2.imread(imagepath + '.jpg')\n",
    "        h, w, _ = image.shape\n",
    "        dimensions_counter[(w, h)] += 1\n",
    "\n",
    "    for image_name_negative in filenames:\n",
    "        image_path = os.path.join(negative_train_folder, image_name_negative)\n",
    "        image = cv2.imread(image_path)\n",
    "        h, w, _ = image.shape\n",
    "        dimensions_counter[(w, h)] += 1\n",
    "\n",
    "    return dimensions_counter"
   ]
  },
  {
   "cell_type": "code",
   "execution_count": 9,
   "metadata": {},
   "outputs": [],
   "source": [
    "def plot_dimensions_counter(dimensions_counter):\n",
    "    dimensioni = dimensions_counter.keys()\n",
    "    frequenze = dimensions_counter.values()\n",
    "\n",
    "    # Estrai larghezza e altezza separatamente\n",
    "    widths = [dim[0] for dim in dimensioni]\n",
    "    heights = [dim[1] for dim in dimensioni]\n",
    "\n",
    "    frequenze = [f for f in frequenze]\n",
    "\n",
    "    print('W: ', widths)\n",
    "\n",
    "    # Crea il plot\n",
    "    plt.figure(figsize=(4, 3))\n",
    "    plt.scatter(widths, heights, s=frequenze, alpha=0.5)\n",
    "    plt.xlabel('Larghezza')\n",
    "    plt.ylabel('Altezza')\n",
    "    plt.xlim(0,1000)\n",
    "    plt.ylim(0,1000)\n",
    "    plt.title('Distribuzione delle Dimensioni delle Immagini')\n",
    "    plt.grid(True)\n",
    "    plt.show()"
   ]
  },
  {
   "cell_type": "code",
   "execution_count": 44,
   "metadata": {},
   "outputs": [
    {
     "name": "stdout",
     "output_type": "stream",
     "text": [
      "W:  [550, 551, 450, 600, 600, 3008, 800, 600, 460, 900, 550, 800, 690, 550, 3456, 640, 680, 400, 501, 2672, 800, 634, 600, 500, 490, 451, 500, 640, 860, 624, 600, 539, 1000, 300, 950, 800, 600, 690, 410, 550, 440, 592, 709, 480, 940, 4896, 1200, 800, 750, 530, 550, 900, 500, 580, 550, 300, 3504, 268, 690, 1024, 750, 666, 512, 940, 560, 490, 600, 819, 670, 500, 640, 2048, 720, 580, 540, 400, 1600, 690, 690, 500, 406, 1024, 533, 670, 800, 600, 853, 600, 1520, 550, 690, 490, 650, 690, 410, 670, 530, 1200, 800, 480, 583, 1000, 629, 650, 776, 400, 900, 750, 557, 500, 406, 1024, 550, 600, 550, 936, 690, 540, 900, 1024, 550, 300, 940, 1155, 500, 550, 640, 266, 720, 450, 700, 449, 690, 749, 640, 529, 500, 550, 450, 550, 700, 654, 551, 750, 573, 592, 600, 750, 1000, 960, 580, 800, 1200, 500, 640, 1280, 800, 550, 640, 600, 800, 450, 950, 800, 550, 500, 500, 480, 580, 570, 900, 580, 500, 821, 545, 500, 500, 446, 450, 450, 680, 550, 500, 431, 729, 800, 1200, 639, 819, 450, 690, 591, 213, 600, 4752, 480, 540, 550, 555, 640, 500, 550, 410, 716, 562, 1920, 480, 618, 400, 533, 500, 540, 300, 930, 560, 701, 640, 572, 550, 2500, 400, 575, 527, 555, 500, 800, 500, 549, 550, 500, 1567, 550, 550, 960, 850, 640, 1024, 540, 300, 448, 800, 450, 562, 500, 640, 537, 148, 1004, 685, 950, 480, 500, 1024, 1936, 750, 500, 800, 320, 500, 530, 808, 827, 406, 459, 984, 530, 934, 600, 750, 637, 1060, 640, 546, 492, 563, 490, 580, 500, 600, 800, 550, 500, 850, 430, 410, 630, 550, 410, 798, 787, 300, 850, 445, 799, 500, 700, 1583, 240, 550, 550, 500, 692, 690, 500, 605, 600, 639, 600, 600, 550, 500, 500, 640, 690, 768, 553, 690, 720, 580, 300, 526, 537, 1280, 528, 2560, 690, 600, 600, 400, 431, 842, 466, 648, 710, 551, 450, 370, 529, 5184, 948, 6016, 1440, 632, 940, 667, 1200, 640, 547, 930, 550, 358, 500, 500, 897, 950, 599, 480, 800, 500, 900, 553, 2500, 940, 552, 1600, 710, 670, 607, 500, 1440, 900, 1366, 504, 2500, 930, 720, 499, 600, 680, 2390, 1600, 637, 1280, 599, 445, 4272, 680, 570, 5664, 3648, 600, 640, 1100, 498, 500, 850, 2048, 399, 900, 439, 550, 715, 772, 380, 545, 600, 700, 620, 533, 640, 400, 800, 610, 440, 600, 500, 500, 550, 490, 400, 300, 500, 560, 677, 500, 500, 440, 550, 500, 4054, 567, 550, 800, 658, 400, 1200, 750, 700, 900, 595, 400, 540, 497, 2048, 500, 6000, 700, 960, 500, 400, 690, 392, 379, 518, 375, 550, 550, 600, 550, 900, 908, 490, 900, 450, 600, 550, 940, 818, 900, 600, 891, 440, 600, 2000, 579, 520, 500, 450, 365, 600, 740, 640, 400, 750, 500, 1920, 518, 600, 600, 420, 678, 500, 520, 492, 260, 600, 451, 550, 540, 555, 639, 1145, 948, 634, 617, 544, 554, 487, 500, 554, 1050, 800, 960, 500, 600, 410, 640, 440, 380, 800, 700, 600, 900, 400, 750, 500, 500, 680, 400, 700, 350, 2000, 900, 960, 489, 641, 338, 2048, 498, 993, 580, 640, 450, 580, 700, 387, 496, 386, 500, 550, 960, 558, 750, 400, 1483, 333, 530, 410, 550, 554, 640, 450, 533, 500, 640, 550, 1267, 1023, 437, 410, 432, 690, 800, 1200, 408, 550, 900, 552, 506, 798, 400, 600, 520, 589, 925, 550, 550, 759, 567, 600, 600, 1043, 480, 600, 550, 450, 900, 390, 1000, 800, 755, 500, 3888, 499, 1573, 400, 320, 5310, 502, 4512, 491, 548, 3118, 650, 549, 638, 899, 542, 532, 410, 550, 520, 640, 1200, 480, 800, 500, 400, 540, 876, 550, 680, 410, 837, 624, 564, 800, 450, 1199, 410, 860, 620, 550, 460, 600, 640, 760, 960, 549, 950, 1322, 921, 500, 670, 645, 550, 330, 930, 449, 600, 490, 1248, 500, 640, 313, 600, 550, 399, 550, 900, 768, 499, 553, 629, 1200, 600, 630, 640, 855, 937, 400, 550, 651, 500, 440, 648, 600, 420, 760, 400, 400, 600, 480, 550, 960, 1200, 938, 1280, 876, 393, 600, 900, 1138, 690, 373, 510, 500, 650, 440, 842, 408, 690, 575, 550, 600, 940, 285, 1000, 550, 690, 690, 610, 941, 350, 490, 509, 1024, 990, 550, 600, 687, 468, 600, 1024, 1200, 600, 722, 571, 802, 700, 500, 380, 1280, 853, 600, 606, 690, 472, 800, 600, 450, 600, 1026, 440, 630, 600, 690, 539, 720, 601, 300, 1438, 555, 1024, 772, 420, 500, 567, 504, 850, 690, 547, 980, 581, 459, 485, 999, 750, 2048, 300, 985, 310, 590, 552, 400, 3872, 600, 461, 690, 2299, 5616, 688, 600, 660, 481, 373, 647, 516, 600, 580, 650, 471, 690, 350, 531, 1280, 520, 600, 600, 600, 540, 450, 450, 1280, 426, 612, 3696, 660, 404, 2300, 639, 630, 553, 500, 494, 800, 850, 394, 800, 700, 540, 500, 450, 2048, 458, 720, 768, 551, 500, 900, 500, 3000, 800, 2048, 3264, 551, 800, 1200, 700, 480, 610, 490, 900, 500, 600, 600, 800, 1044, 670, 410, 1200, 800, 590, 400, 749, 520, 2592, 450, 588, 400, 549, 921, 508, 1300, 480, 700, 800, 933, 630, 698, 5376, 690, 480, 1000, 480, 600, 2592, 500, 1023, 437, 304, 452, 549, 500, 520, 600, 1200, 800, 600, 555, 600, 700, 360, 1200, 940, 791, 600, 400, 800, 983, 381, 650, 474, 749, 770, 800, 830, 600, 467, 644, 400, 675, 530, 690, 500, 310, 633, 750, 852, 620, 950, 800, 1024, 574, 900, 452, 800, 620, 412, 650, 631, 669, 550, 450, 495, 310, 690, 553, 933, 606, 603, 1112, 500, 530, 400, 900, 1104, 480, 450, 530, 2048, 790, 2000, 640, 800, 427, 788, 950, 2048, 411, 500, 1280, 495, 600, 550, 863, 1600, 550, 800, 4912, 450, 520, 480, 550, 500, 440, 800, 780, 628, 580, 400, 650, 1193, 598, 799, 1200, 500, 1600, 600, 557, 1500, 690, 534, 530, 500, 500, 400, 500, 300, 630, 312, 800, 550, 555, 600, 500, 615, 560, 525, 483, 600, 4288, 1024, 675, 690, 500, 946, 500, 580, 748, 500, 400, 1200, 400, 1140, 553, 500, 690, 630, 608, 1012, 450, 690, 900, 399, 980, 631, 241, 600, 750, 448, 500, 910, 480, 550, 760, 700, 1052, 500, 500, 1272, 600, 490, 1000, 2144, 454, 553, 550, 569, 400, 1714, 600, 600, 640, 600, 555, 637, 2160, 800, 634, 1011, 580, 898, 550, 935, 450, 512, 1000, 450, 900, 450, 550, 1240, 560, 480, 423, 868, 750, 690, 1024, 448, 564, 1000, 554, 600, 358, 495, 900, 669, 460, 666, 963, 600, 699, 554, 528, 936, 1024, 450, 640, 550, 620, 430, 500, 514, 450, 540, 1215, 430, 570, 400, 550, 450, 453, 350, 530, 635, 800, 448, 372, 800, 480, 372, 1000, 500, 636, 960, 781, 992, 555, 600, 500, 900, 400, 900, 400, 600, 1024, 475, 500, 485, 500, 640, 539, 490, 400, 600, 600, 798, 320, 991, 668, 960, 550, 1009, 550, 663, 600, 540, 551, 640, 410, 900, 640, 600, 500, 500, 440, 480, 782, 450, 456, 480, 650, 550, 725, 690, 930, 750, 982, 550, 1273, 1200, 600, 640, 900, 1280, 444, 693, 532, 194, 530, 550, 690, 680, 1050, 452, 490, 482, 640, 800, 1000, 410, 1000, 1600, 554, 1200, 410, 2248, 517, 976, 680, 300, 300, 900, 1024, 598, 300, 500, 450, 480, 1300, 690, 750, 549, 640, 630, 368, 555, 800, 550, 602, 632, 570, 770, 563, 1024, 600, 550, 1200, 644, 564, 512, 400, 550, 800, 554, 2592, 320, 500, 854, 896, 500, 3008, 295, 690, 400, 1224, 405, 1024, 750, 459, 400, 940, 900, 490, 960, 400, 496, 900, 1067, 1000, 456, 500, 1888, 400, 916, 600, 460, 500, 700, 900, 600, 1024, 552, 2000, 772, 500, 600, 330, 959, 444, 945, 690, 640, 1866, 460, 690, 600, 360, 895, 1200, 400, 604, 300, 800, 520, 498, 413, 980, 690, 589, 600, 450, 565, 550, 369, 600, 540, 346, 1000, 2048, 540, 500, 660, 1002, 573, 762, 550, 427, 900, 450, 1200, 601, 300, 554, 675, 500, 937, 600, 720, 448, 521, 550, 680, 730, 940, 640, 549, 900, 940, 575, 880, 680, 551, 513, 589, 605, 554, 300, 500, 600, 500, 530, 724, 901, 540, 1000, 1136, 530, 1024, 450, 1020, 450, 754, 550, 298, 553, 411, 940, 600, 2304, 568, 480, 4000, 550, 500, 359, 700, 400, 440, 900, 870, 602, 796, 300, 650, 899, 640, 352, 800, 552, 550, 528, 489, 650, 500, 600, 1300, 600, 1102, 640, 793, 310, 809, 410, 610, 500, 690, 500, 450, 828, 895, 300, 453, 466, 702, 658, 794, 410, 672, 434, 491, 496, 500, 582, 1000, 490, 691, 550, 864, 1250, 1536, 510, 403, 375, 640, 1936, 660, 850, 705, 2896, 600, 650, 720, 693, 2592, 733, 2048, 690, 550, 900, 488, 778, 715, 544, 657, 950, 408, 720, 900, 450, 600, 548, 520, 736, 1029, 522, 461, 550, 700, 510, 506, 549, 578, 600, 500, 1024, 690, 950, 450, 490, 982, 685, 1080, 450, 982, 545, 652, 671, 553, 640, 715, 500, 1200, 552, 400, 951, 640, 450, 482, 788, 690, 850, 522, 577, 400, 534, 852, 496, 800, 690, 582, 400, 300, 450, 950, 750, 948, 600, 900, 1200, 640, 500, 393, 620, 710, 586, 447, 1920, 566, 550, 780, 550, 500, 275, 550, 750, 500, 400, 458, 4320, 780, 640, 840, 1000, 750, 603, 600, 600, 900, 642, 450, 852, 690, 440, 480, 1378, 492, 472, 1039, 510, 743, 580, 400, 650, 435, 450, 544, 3508, 394, 950, 530, 671, 700, 506, 472, 440, 950, 800, 980, 512, 868, 599, 580, 551, 690, 520, 530, 1772, 800, 499, 940, 600, 370, 620, 2048, 540, 448, 600, 360, 985, 440, 864, 680, 960, 658, 783, 400, 550, 489, 900, 400, 900, 1102, 400, 512, 690, 566, 1000, 630, 546, 400, 360, 1000, 619, 507, 640, 730, 640, 690, 600, 680, 600, 750, 256, 710, 1024, 306, 500, 392, 950, 1024, 561, 700, 359, 578, 900, 846, 449, 591, 400, 400, 495, 337, 600, 679, 533, 680, 691, 589, 514, 454, 4955, 673, 616, 530, 615, 599, 970, 900, 980, 700, 600, 550, 500, 690, 500, 665, 300, 421, 464, 1000, 564, 320, 608, 364, 685, 605, 600, 1296, 498, 560, 600, 300, 2560, 456, 626, 900, 399, 980, 540, 750, 663, 780, 940, 390, 858, 550, 833, 600, 500, 470, 240, 438, 420, 551, 666, 575, 500, 2000, 519, 600, 434, 550, 600, 900, 450, 540, 300, 579, 552, 800, 2616, 350, 640, 350, 671, 925, 540, 800, 550, 1094, 670, 697, 702, 800, 500, 604, 800, 486, 467, 800, 542, 546, 498, 900, 355, 768, 650, 506, 400, 606, 960, 650, 555, 540, 479, 420, 440, 680, 600, 366, 767, 480, 800, 2100, 622, 725, 698, 642, 900, 337, 550, 620, 854, 492, 720, 1200, 680, 532, 948, 940, 356, 236, 648, 373, 612, 690, 685, 1000, 1984, 700, 925, 1600, 639, 4896, 576, 497, 640, 560, 1362, 600, 450, 440, 630, 478, 360, 550, 362, 525, 294, 800, 680, 635, 600, 718, 850, 500, 839, 412, 659, 605, 600, 998, 580, 600, 443, 500, 780, 566, 807, 550, 590, 690, 950, 600, 565, 750, 484, 960, 403, 700, 473, 690, 320, 600, 482, 410, 527, 786, 546, 555, 548, 1180, 625, 384, 420, 464, 910, 1130, 270, 768, 499, 1071, 721, 500, 500, 690, 498, 2500, 750, 800, 400, 630, 494, 600, 640, 490, 640, 778, 333, 499, 660, 610, 490, 986, 1200, 590, 1000, 500, 528, 447, 520, 750, 690, 950, 550, 939, 709, 407, 400, 410, 1200, 3216, 1600, 585, 300, 690, 1024, 575, 451, 587, 700, 450, 1600, 600, 640, 940, 2000, 640, 600, 1108, 1555, 453, 540, 360, 900, 710, 550, 1900, 500, 490, 668, 196, 730, 999, 4000, 333, 600, 1176, 500, 400, 690, 700, 936, 466, 1024, 552, 470, 490, 611, 2619, 482, 500, 699, 800, 540, 550, 2592, 400, 600, 550, 800, 2736, 480, 467, 544, 484, 690, 540, 585, 450, 496, 735, 553, 560, 680, 332, 450, 581, 559, 405, 580, 900, 480, 945, 498, 1200, 976, 500, 709, 599, 499, 768, 527, 1140, 532, 606, 549, 674, 343, 690, 641, 1151, 500, 600, 497, 620, 720, 637, 500, 400, 950, 640, 447, 615, 468, 445, 500, 700, 280, 335, 880, 520, 940, 400, 335, 530, 638, 497, 658, 550, 1062, 640, 900, 1023, 448, 980, 558, 638, 1024, 408, 400, 672, 540, 750, 765, 620, 400, 690, 715, 565, 881, 620, 640, 565, 545, 900, 550, 558, 600, 477, 847, 490, 362, 620, 929, 1000, 575, 600, 509, 497, 488, 779, 750, 318, 416, 489, 790, 554, 355, 648, 520, 496, 543, 600, 400, 850, 1280, 400, 900, 1024, 900, 950, 882, 304, 319, 422, 490, 1024, 690, 690, 450, 557, 857, 437, 558, 550, 804, 350, 1535, 488, 520, 485, 426, 957, 1728, 560, 250, 1632, 771, 468, 600, 940, 690, 546, 1024, 650, 807, 690, 800, 437, 1325, 596, 740, 600, 858, 990, 520, 680, 450, 1037, 2000, 600, 550, 466, 577, 540, 940, 582, 2080, 507, 340, 490, 800, 359, 300, 1200, 410, 632, 550, 687, 629, 788, 680, 998, 1024, 4378, 565, 822, 600, 629, 1600, 249, 480, 513, 767, 460, 770, 525, 636, 880, 511, 600, 799, 598, 500, 495, 400, 829, 910, 998, 425, 550, 530, 700, 595, 800, 1015, 988, 520, 690, 1600, 500, 566, 581, 400, 560, 552, 550, 550, 1000, 560, 475, 657, 1030, 286, 510, 546, 680, 700, 526, 540, 450, 382, 903, 410, 800, 495, 477, 349, 709, 396, 400, 960, 590, 674, 355, 500, 500, 600, 539, 625, 350, 660, 700, 553, 550, 560, 396, 550, 500, 959, 593, 606, 720, 631, 611, 550, 410, 500, 4608, 550, 516, 326, 499, 405, 800, 390, 620, 1398, 660, 690, 552, 597, 650, 363, 720, 600, 700, 500, 690, 657, 550, 1275, 547, 1024, 640, 750, 1024, 560, 495, 640, 768, 546, 644, 864, 732, 800, 491, 355, 887, 484, 808, 520, 600, 540, 499, 500, 692, 493, 454, 600, 1600, 647, 1280, 485, 755, 500, 560, 550, 400, 900, 570, 770, 2000, 374, 570, 435, 700, 517, 400, 553, 464, 650, 673, 857, 648, 300, 501, 850, 850, 449, 293, 690, 1000, 456, 929, 1280, 1100, 542, 819, 1200, 493, 424, 571, 640, 440, 796, 556, 427, 1242, 2592, 2000, 700, 918, 500, 340, 549, 576, 500, 596, 600, 687, 702, 3113, 540, 700, 750, 410, 452, 502, 410, 554, 580, 1500, 400, 4692, 902, 654, 600, 600, 600, 1334, 550, 600, 1200, 750, 1100, 640, 1623, 887, 502, 640, 650, 502, 480, 500, 690, 560, 1024, 650, 608, 250, 500, 791, 620, 400, 850, 495, 520, 300, 655, 580, 549, 650, 453, 880, 663, 600, 400, 480, 410, 750, 690, 768, 268, 750, 950, 400, 836, 401, 2000, 414, 320, 672, 530, 566, 542, 690, 750, 935, 622, 526, 399, 552, 553, 720, 554, 950, 316, 443, 440, 685, 600, 480, 400, 908, 690, 716, 576, 1057, 900, 600, 650, 500, 440, 634, 494, 794, 448, 550, 424, 530, 564, 960, 672, 970, 800, 1280, 474, 540, 520, 983, 984, 1100, 588, 600, 400, 690, 456, 1223, 449, 400, 2592, 800, 507, 490, 910, 2048, 2048, 1280, 650, 640, 425, 620, 872, 832, 557, 600, 550, 700, 555, 550, 480, 540, 606, 550, 1012, 634, 937, 700, 457, 598, 1200, 3264, 510, 598, 472, 593, 440, 930, 450, 540, 1965, 497, 800, 520, 548, 349, 910, 400, 532, 930, 550, 830, 2362, 2576, 510, 540, 844, 1024, 500, 552, 696, 371, 850, 660, 499, 300, 676, 650, 799, 1152, 457, 1000, 720, 500, 690, 526, 771, 580, 567, 480, 610, 1049, 410, 690, 910, 700, 487, 899, 1024, 640, 550, 497, 640, 800, 1200, 680, 731, 1024, 532, 1152, 550, 940, 616, 600, 555, 750, 824, 686, 551, 600, 268, 300, 695, 411, 450, 726, 550, 934, 550, 579, 400, 1076, 427, 600, 365, 667, 4928, 587, 395, 507, 800, 430, 557, 1024, 640, 586, 600, 399, 600, 357, 960, 594, 650, 980, 553, 490, 837, 560, 600, 350, 1000, 594, 600, 676, 998, 500, 654, 1296, 560, 496, 556, 800, 970, 832, 410, 480, 280, 606, 512, 501, 1824, 850, 615, 800, 780, 518, 490, 700, 310, 690, 320, 793, 499, 900, 490, 4054, 720, 800, 919, 1024, 398, 384, 490, 685, 535, 490, 553, 573, 565, 450, 679, 240, 450, 968, 550, 350, 319, 500, 550, 900, 1200, 385, 578, 610, 950, 956, 550, 689, 1024, 645, 721, 2048, 691, 402, 684, 800, 1029, 690, 460, 400, 559, 640, 2968, 725, 370, 648, 661, 559, 360, 772, 941, 430, 640, 637, 538, 370, 566, 553, 525, 703, 558, 554, 1716, 605, 480, 497, 800, 535, 599, 472, 720, 725, 553, 680, 620, 682, 507, 422, 754, 640, 1165, 554, 534, 438, 566, 507, 870, 320, 492, 499, 554, 465, 687, 696, 643, 1228, 553, 604, 678, 921, 896, 520, 570, 400, 560, 445, 412, 550, 885, 1176, 477, 397, 4208, 385, 320, 437, 248, 512, 486, 432, 384, 341, 214]\n"
     ]
    },
    {
     "data": {
      "image/png": "[encoded data removed]",
      "text/plain": [
       "<Figure size 400x300 with 1 Axes>"
      ]
     },
     "metadata": {},
     "output_type": "display_data"
    }
   ],
   "source": [
    "dimensions_counter = find_dim_img(image_folder, train_names_positive, negative_train_folder)\n",
    "plot_dimensions_counter(dimensions_counter)"
   ]
  },
  {
   "cell_type": "markdown",
   "metadata": {},
   "source": [
    "Secondo la distribuzione delle larghezze e altezze delle immagini di training (considerate immagini positive e negativa), \n",
    "e considerando i valori più frequenti di w,h evinciamo che la dimensione più frequente e cioè quella che abbiamo utilizzato per fare la resize in fase di test, è la dimensione 400,600"
   ]
  },
  {
   "cell_type": "code",
   "execution_count": 10,
   "metadata": {},
   "outputs": [],
   "source": [
    "base_size= {'H':400, 'W':600}"
   ]
  },
  {
   "cell_type": "markdown",
   "metadata": {},
   "source": [
    "## 5.2 Ricerca delle 3 scale più frequenti\n",
    "Le scale saranno applicate nello sliding window multi-scale"
   ]
  },
  {
   "cell_type": "markdown",
   "metadata": {},
   "source": [
    "### 5.2.1 Riscalatura altezze bounding box"
   ]
  },
  {
   "cell_type": "code",
   "execution_count": 46,
   "metadata": {},
   "outputs": [],
   "source": [
    "#Funzione per normalizzare le altezze \n",
    "def normalized_h(image_folder, annotations_folder,train_names_positive):\n",
    "    list_name_img = train_names_positive \n",
    "    h_base = base_size['H']\n",
    "    h_normalized_list = []\n",
    "\n",
    "    for image_name_positive in list_name_img:\n",
    "        imagepath = os.path.join(image_folder, image_name_positive)\n",
    "        image = cv2.imread(imagepath + '.jpg')\n",
    "        h, _, _ = image.shape\n",
    "        annotation_file_path = annotations_folder + '/' + image_name_positive + '.jpg'\n",
    "        annotation_file_path = os.path.join(annotation_file_path +'.txt')\n",
    "        annotations = read_annotations_from_file(annotation_file_path)\n",
    "        for annotation in annotations:\n",
    "            y2 = annotation['y2']\n",
    "            y1 = annotation['y1']\n",
    "            h_bb = y2-y1\n",
    "            h_normalized= int(np.round((h_base*h_bb)/h))\n",
    "            h_normalized_list.append(h_normalized)\n",
    "\n",
    "    return h_normalized_list \n",
    "\n",
    "# Definisco la funzione che mi permetterà di effettuare il plot\n",
    "def plot_h(list):\n",
    "    plt.figure(figsize=(4, 3))\n",
    "    plt.hist(list, bins=100, color='skyblue', edgecolor='black')\n",
    "    plt.title('Distribuzione delle altezze ')\n",
    "    plt.xlabel('Altezza')\n",
    "    plt.ylabel('Frequenza')\n",
    "    plt.xlim(0,300)\n",
    "    plt.grid(True)\n",
    "    plt.show()"
   ]
  },
  {
   "cell_type": "code",
   "execution_count": 47,
   "metadata": {},
   "outputs": [
    {
     "data": {
      "image/png": "[encoded data removed]",
      "text/plain": [
       "<Figure size 400x300 with 1 Axes>"
      ]
     },
     "metadata": {},
     "output_type": "display_data"
    }
   ],
   "source": [
    "h_normalized_list = normalized_h(image_folder, annotations_folder,train_names_positive)\n",
    "plot_h(h_normalized_list)"
   ]
  },
  {
   "cell_type": "markdown",
   "metadata": {},
   "source": [
    "Secondo l'analisi riportata nel plot scegliamo come altezze su cui calcolare le scale le seguenti: 50, 100, 150"
   ]
  },
  {
   "cell_type": "code",
   "execution_count": 11,
   "metadata": {},
   "outputs": [],
   "source": [
    "h_most_frequent = [50, 100, 150]"
   ]
  },
  {
   "cell_type": "markdown",
   "metadata": {},
   "source": [
    "### 5.2.2 Calcolo delle 3 scale"
   ]
  },
  {
   "cell_type": "code",
   "execution_count": 12,
   "metadata": {},
   "outputs": [],
   "source": [
    "#Funzione per trovare le scale in relazione a finestra bounding-box di dimensioni W=64, H=128\n",
    "#Il rapporto deve essere : altezza-bb-frequente : altezza-bb-fissa-detection = H-image : H_resized \n",
    "def find_scale(h_most_frequent):\n",
    "    scales=[]\n",
    "    h_bb=128.00 #altezza bb-fissa \n",
    "    fattore_di_scala = 1\n",
    "    for h in h_most_frequent: \n",
    "        #comune : h_bb = H : H_resized \n",
    "        fattore_di_scala = h_bb/h  #x img ridimensioanta/H immagine data \n",
    "        scales.append(fattore_di_scala)\n",
    "    return scales"
   ]
  },
  {
   "cell_type": "code",
   "execution_count": 13,
   "metadata": {},
   "outputs": [
    {
     "name": "stdout",
     "output_type": "stream",
     "text": [
      "Le tre scale scelte sono: [2.56, 1.28, 0.8533333333333334]\n"
     ]
    }
   ],
   "source": [
    "scales = find_scale(h_most_frequent)\n",
    "scales = sorted(scales,reverse=True)\n",
    "print(\"Le tre scale scelte sono:\", scales)"
   ]
  },
  {
   "cell_type": "markdown",
   "metadata": {},
   "source": [
    "## 5.3 Multiscale sliding window procedure"
   ]
  },
  {
   "cell_type": "code",
   "execution_count": 14,
   "metadata": {},
   "outputs": [],
   "source": [
    "def detect_pedestrians(image, classifier, scales=scales, stride=64, window_size=(64, 128), sigma=0.5, preprocessing=False):\n",
    "    detections = []\n",
    "    # Resized immagine \n",
    "\n",
    "    h,w,_ = image.shape\n",
    "    resized_image_base = cv2.resize(image,(base_size['W'], base_size['H']))\n",
    "    fx = base_size['W'] / w\n",
    "    fy = base_size['H'] / h\n",
    "    # Iterazione attraverso le diverse scale\n",
    "    for scale in scales:\n",
    "        image_gaussian = cv2.GaussianBlur(resized_image_base,(0,0),sigmaX=sigma,sigmaY=sigma)\n",
    "        resized_image = cv2.resize(image_gaussian,None, fx=scale, fy=scale)\n",
    "        #Iterazione attraverso le finestre scorrevoli con passo stride \n",
    "        for y in range(0, resized_image.shape[0] - window_size[1] + 1, stride):\n",
    "            for x in range(0, resized_image.shape[1] - window_size[0] + 1, stride):                \n",
    "                # Estrai la finestra corrente cui applicare le HOG \n",
    "                window = resized_image[y:y+window_size[1], x:x+window_size[0]]\n",
    "                hog_features = extract_hog_descriptor(window) # sia il modello che la pca vogliono in input una lista di descrittori; poichè qui c'è un solo descrittore abbiamo bisogno di racchiuderlo tra quadre\n",
    "                hog_features = [hog_features]\n",
    "                if preprocessing:\n",
    "                    hog_features = pca.transform(hog_features)\n",
    "\n",
    "                predictions = classifier.predict(hog_features)\n",
    "                scores = classifier.decision_function(hog_features)\n",
    "                \n",
    "                # Se la detection ==1 allora ho individuato un pedone\n",
    "                if predictions == 1 :\n",
    "                    # Calcolo delle coordinate della detection nella dimensione originale dell'immagine\n",
    "                    x_original = int((x / scale)/fx)\n",
    "                    y_original = int((y / scale)/fy)\n",
    "\n",
    "\n",
    "                    #Calcola le dimensioni della finestra corrente rispetto all'immagine originale\n",
    "                    window_width_original = int((window_size[0] / scale)/fx)\n",
    "                    window_height_original = int((window_size[1] / scale)/fy)\n",
    "                    x1 = x_original\n",
    "                    y1 = y_original\n",
    "                    x2 = int(x1 + window_width_original)\n",
    "                    y2 = int(y1 + window_height_original)\n",
    "                    \n",
    "\n",
    "                    detection = {'class_label': 1, 'x1': x1, 'y1': y1, 'x2': x2, 'y2': y2 ,'score': scores, 'scale': scale}\n",
    "                    detections.append(detection)\n",
    "    \n",
    "    return detections\n"
   ]
  },
  {
   "cell_type": "markdown",
   "metadata": {},
   "source": [
    "# 6. Non-maxima suppression"
   ]
  },
  {
   "cell_type": "code",
   "execution_count": 16,
   "metadata": {},
   "outputs": [],
   "source": [
    "def IoU(annotation_1, annotation_2):\n",
    "\n",
    "    x1 = max(annotation_1['x1'], annotation_2['x1'])\n",
    "    y1 = max(annotation_1['y1'], annotation_2['y1'])\n",
    "    x2 = min(annotation_1['x2'], annotation_2['x2'])\n",
    "    y2 = min(annotation_1['y2'], annotation_2['y2'])\n",
    "\n",
    "    # Notiamo che in questo modo verifichiamo se le finestre si sovrappongono.\n",
    "    # Poichè se le differenze tra le coordinate x o y risultano negative ciò vuol \n",
    "    # dire che le finestra non si sovrappongono quindi l'area sarà pari a 0\n",
    "    # di conseguenza il valore di ritorno sarà 0\n",
    "    intersection_area = max(0, x2 - x1 + 1) * max(0, y2 - y1 + 1)\n",
    "\n",
    "    annotation_1_area = (annotation_1['x2'] - annotation_1['x1'] + 1) * (annotation_1['y2'] - annotation_1['y1'] + 1)\n",
    "    annotation_2_area = (annotation_2['x2'] - annotation_2['x1'] + 1) * (annotation_2['y2'] - annotation_2['y1'] + 1)\n",
    "\n",
    "    iou = intersection_area / float(annotation_1_area + annotation_2_area - intersection_area)\n",
    "\n",
    "    return iou\n",
    "\n",
    "def non_maxima_suppression(T, detections):\n",
    "\n",
    "    Bnms = []\n",
    "    for bi in detections:\n",
    "        discard = False\n",
    "        for bj in detections:\n",
    "            if IoU(bi, bj) > T and bj['score'] > bi['score']:\n",
    "                discard = True\n",
    "        if not discard:\n",
    "            Bnms.append(bi)\n",
    "    \n",
    "    return Bnms"
   ]
  },
  {
   "cell_type": "markdown",
   "metadata": {},
   "source": [
    "# Definizione delle funzioni per la valutazione del modello"
   ]
  },
  {
   "cell_type": "markdown",
   "metadata": {},
   "source": [
    "## Definizione funzioni per il calcolo delle metriche di valutazione"
   ]
  },
  {
   "cell_type": "code",
   "execution_count": 18,
   "metadata": {},
   "outputs": [],
   "source": [
    "#Funzioni per calcolare FP,FP,TP con precision e recall\n",
    "def counter_tp_fp_fn(detections, annotations):\n",
    "\n",
    "    tp, fp, fn = 0, 0, 0\n",
    "    \n",
    "    # Conto i True Positive\n",
    "    # Se trovo un true positive allora rimuovo\n",
    "    for annotation in annotations:\n",
    "\n",
    "        list_detections = []\n",
    "        for detection in detections:\n",
    "            if IoU(annotation, detection) > 0.5:\n",
    "                list_detections.append((IoU(annotation, detection), detection))\n",
    "        \n",
    "        # Verifico se l'annotation ha almeno un intersezione maggiore di 0.5\n",
    "        if len(list_detections) > 0:\n",
    "            tp += 1\n",
    "            # Ordino secondo la IoU di tutte le intersezioni tra l'annotation e le detections\n",
    "            # e prendo quella con IoU maggiore e successivamente la rimuovo dalla lista delle detections\n",
    "            lista_ordinata = sorted(list_detections, key=lambda x: x[0], reverse=True)\n",
    "            detections.remove(lista_ordinata[0][1])\n",
    "            # Rimuovo l'annotazione si interseca almeno una volta dal conteggio dei fn\n",
    "            fn -= 1\n",
    "\n",
    "    fp += len(detections)\n",
    "    fn += len(annotations)   # ATTENZIONE: fn non sempre è uguale a len(annotation) poichè nella riga 44 sottraggo di 1 nel caso in cui ci sono delle intersezioni > 0.5\n",
    "\n",
    "    return tp, fp, fn\n",
    "\n",
    "def my_f1_score(tot_tp, tot_fp, tot_fn):\n",
    "    if tot_tp == 0:\n",
    "        return 0  # Gestione di una divisione per zero\n",
    "    precision = tot_tp / (tot_tp + tot_fp)\n",
    "    recall = tot_tp / (tot_tp + tot_fn)\n",
    "    f1 = 2 * (precision * recall) / (precision + recall)\n",
    "    return f1, precision, recall"
   ]
  },
  {
   "cell_type": "markdown",
   "metadata": {},
   "source": [
    "## Test"
   ]
  },
  {
   "cell_type": "code",
   "execution_count": 27,
   "metadata": {},
   "outputs": [],
   "source": [
    "\n",
    "def testing(classifier, image_test_names, image_folder, annotations_folder, T, preprocessing=False):\n",
    "\n",
    "    tot_tp, tot_fp, tot_fn = 0, 0, 0\n",
    "    \n",
    "    for image_name in tqdm(image_test_names, desc=\"Testing\"):\n",
    "        image_path = os.path.join(image_folder, image_name + '.jpg')\n",
    "        annotations_path = os.path.join(annotations_folder, image_name + '.jpg.txt')\n",
    "        annotations = read_annotations_from_file(annotations_path)\n",
    "\n",
    "        test_image = cv2.imread(image_path)\n",
    "\n",
    "        detections = detect_pedestrians(test_image, classifier, scales=scales, stride=64, window_size=(64, 128),sigma=0.5, preprocessing=preprocessing)\n",
    "        best_detections = non_maxima_suppression(T, detections)\n",
    "\n",
    "        tp, fp, fn = counter_tp_fp_fn(best_detections, annotations)\n",
    "\n",
    "        tot_tp += tp\n",
    "        tot_fp += fp\n",
    "        tot_fn += fn\n",
    "\n",
    "    f1_score, precision, recall = my_f1_score(tot_tp, tot_fp, tot_fn)\n",
    "\n",
    "    return f1_score, precision, recall, tot_tp, tot_fp, tot_fn"
   ]
  },
  {
   "cell_type": "markdown",
   "metadata": {},
   "source": [
    "# Rilevamento miglior Threshold"
   ]
  },
  {
   "cell_type": "code",
   "execution_count": 33,
   "metadata": {},
   "outputs": [
    {
     "name": "stderr",
     "output_type": "stream",
     "text": [
      "Testing: 100%|██████████| 1000/1000 [02:21<00:00,  7.07it/s]\n"
     ]
    },
    {
     "name": "stdout",
     "output_type": "stream",
     "text": [
      "{'T': 0.2, 'f1_score': 0.07455100976227737, 'precision': 0.05328986618938038, 'recall': 0.12403908148588999, 'tot_tp': 2501, 'tot_fp': 44431, 'tot_fn': 17662}\n"
     ]
    },
    {
     "name": "stderr",
     "output_type": "stream",
     "text": [
      "Testing: 100%|██████████| 1000/1000 [02:17<00:00,  7.27it/s]\n"
     ]
    },
    {
     "name": "stdout",
     "output_type": "stream",
     "text": [
      "{'T': 0.4, 'f1_score': 0.07646603410093444, 'precision': 0.046711908401984185, 'recall': 0.21063333829291275, 'tot_tp': 4247, 'tot_fp': 86672, 'tot_fn': 15916}\n"
     ]
    },
    {
     "name": "stderr",
     "output_type": "stream",
     "text": [
      "Testing: 100%|██████████| 1000/1000 [02:17<00:00,  7.29it/s]\n"
     ]
    },
    {
     "name": "stdout",
     "output_type": "stream",
     "text": [
      "{'T': 0.5, 'f1_score': 0.08227559833283203, 'precision': 0.04975988025196981, 'recall': 0.23741506720230124, 'tot_tp': 4787, 'tot_fp': 91415, 'tot_fn': 15376}\n"
     ]
    },
    {
     "name": "stderr",
     "output_type": "stream",
     "text": [
      "Testing: 100%|██████████| 1000/1000 [02:17<00:00,  7.26it/s]\n"
     ]
    },
    {
     "name": "stdout",
     "output_type": "stream",
     "text": [
      "{'T': 0.6, 'f1_score': 0.08227559833283203, 'precision': 0.04975988025196981, 'recall': 0.23741506720230124, 'tot_tp': 4787, 'tot_fp': 91415, 'tot_fn': 15376}\n"
     ]
    },
    {
     "name": "stderr",
     "output_type": "stream",
     "text": [
      "Testing: 100%|██████████| 1000/1000 [02:18<00:00,  7.24it/s]"
     ]
    },
    {
     "name": "stdout",
     "output_type": "stream",
     "text": [
      "{'T': 0.7, 'f1_score': 0.08227559833283203, 'precision': 0.04975988025196981, 'recall': 0.23741506720230124, 'tot_tp': 4787, 'tot_fp': 91415, 'tot_fn': 15376}\n"
     ]
    },
    {
     "name": "stderr",
     "output_type": "stream",
     "text": [
      "\n"
     ]
    }
   ],
   "source": [
    "T = [0.2, 0.4, 0.5, 0.6, 0.7]\n",
    "\n",
    "report_T = []\n",
    "\n",
    "for t in T:\n",
    "    f1_score, precision, recall, tot_tp, tot_fp, tot_fn = testing(classifier, \n",
    "                                                                    val_names_positive, \n",
    "                                                                    image_folder, \n",
    "                                                                    annotations_folder, \n",
    "                                                                    t,\n",
    "                                                                    preprocessing=False)\n",
    "    \n",
    "    print({'T':t, 'f1_score':f1_score, 'precision':precision, \n",
    "                    'recall': recall, 'tot_tp':tot_tp, 'tot_fp':tot_fp, 'tot_fn':tot_fn})\n",
    "\n",
    "    report_T.append({'T':t, 'f1_score':f1_score, 'precision':precision, \n",
    "                    'recall': recall, 'tot_tp':tot_tp, 'tot_fp':tot_fp, 'tot_fn':tot_fn})"
   ]
  },
  {
   "cell_type": "code",
   "execution_count": 35,
   "metadata": {},
   "outputs": [
    {
     "data": {
      "text/plain": [
       "[{'T': 0.5,\n",
       "  'f1_score': 0.08227559833283203,\n",
       "  'precision': 0.04975988025196981,\n",
       "  'recall': 0.23741506720230124,\n",
       "  'tot_tp': 4787,\n",
       "  'tot_fp': 91415,\n",
       "  'tot_fn': 15376},\n",
       " {'T': 0.6,\n",
       "  'f1_score': 0.08227559833283203,\n",
       "  'precision': 0.04975988025196981,\n",
       "  'recall': 0.23741506720230124,\n",
       "  'tot_tp': 4787,\n",
       "  'tot_fp': 91415,\n",
       "  'tot_fn': 15376},\n",
       " {'T': 0.7,\n",
       "  'f1_score': 0.08227559833283203,\n",
       "  'precision': 0.04975988025196981,\n",
       "  'recall': 0.23741506720230124,\n",
       "  'tot_tp': 4787,\n",
       "  'tot_fp': 91415,\n",
       "  'tot_fn': 15376},\n",
       " {'T': 0.4,\n",
       "  'f1_score': 0.07646603410093444,\n",
       "  'precision': 0.046711908401984185,\n",
       "  'recall': 0.21063333829291275,\n",
       "  'tot_tp': 4247,\n",
       "  'tot_fp': 86672,\n",
       "  'tot_fn': 15916},\n",
       " {'T': 0.2,\n",
       "  'f1_score': 0.07455100976227737,\n",
       "  'precision': 0.05328986618938038,\n",
       "  'recall': 0.12403908148588999,\n",
       "  'tot_tp': 2501,\n",
       "  'tot_fp': 44431,\n",
       "  'tot_fn': 17662}]"
      ]
     },
     "execution_count": 35,
     "metadata": {},
     "output_type": "execute_result"
    }
   ],
   "source": [
    "sorted(report_T, key=lambda x:x['f1_score'], reverse=True)"
   ]
  },
  {
   "cell_type": "markdown",
   "metadata": {},
   "source": [
    "Threshold migliore =0.5 per modello senza PCA. Valori : \n",
    "f1_score = 0.08227559833283203"
   ]
  },
  {
   "cell_type": "markdown",
   "metadata": {},
   "source": [
    "## Test con modello e PCA"
   ]
  },
  {
   "cell_type": "code",
   "execution_count": 20,
   "metadata": {},
   "outputs": [
    {
     "name": "stderr",
     "output_type": "stream",
     "text": [
      "Testing:   0%|          | 0/1000 [00:00<?, ?it/s]"
     ]
    },
    {
     "name": "stderr",
     "output_type": "stream",
     "text": [
      "Testing: 100%|██████████| 1000/1000 [13:26<00:00,  1.24it/s]\n"
     ]
    },
    {
     "name": "stdout",
     "output_type": "stream",
     "text": [
      "{'T': 0.2, 'f1_score': 0.07467441067962603, 'precision': 0.053243186139869, 'recall': 0.12498140157714625, 'tot_tp': 2520, 'tot_fp': 44810, 'tot_fn': 17643}\n"
     ]
    },
    {
     "name": "stderr",
     "output_type": "stream",
     "text": [
      "Testing: 100%|██████████| 1000/1000 [13:23<00:00,  1.25it/s]\n"
     ]
    },
    {
     "name": "stdout",
     "output_type": "stream",
     "text": [
      "{'T': 0.4, 'f1_score': 0.07628346118770453, 'precision': 0.046529891037596936, 'recall': 0.21157565838416903, 'tot_tp': 4266, 'tot_fp': 87417, 'tot_fn': 15897}\n"
     ]
    },
    {
     "name": "stderr",
     "output_type": "stream",
     "text": [
      "Testing: 100%|██████████| 1000/1000 [13:23<00:00,  1.24it/s]\n"
     ]
    },
    {
     "name": "stdout",
     "output_type": "stream",
     "text": [
      "{'T': 0.5, 'f1_score': 0.08158665380313677, 'precision': 0.049276019966173014, 'recall': 0.23696870505381143, 'tot_tp': 4778, 'tot_fp': 92186, 'tot_fn': 15385}\n"
     ]
    },
    {
     "name": "stderr",
     "output_type": "stream",
     "text": [
      "Testing: 100%|██████████| 1000/1000 [13:22<00:00,  1.25it/s]\n"
     ]
    },
    {
     "name": "stdout",
     "output_type": "stream",
     "text": [
      "{'T': 0.6, 'f1_score': 0.08158665380313677, 'precision': 0.049276019966173014, 'recall': 0.23696870505381143, 'tot_tp': 4778, 'tot_fp': 92186, 'tot_fn': 15385}\n"
     ]
    },
    {
     "name": "stderr",
     "output_type": "stream",
     "text": [
      "Testing: 100%|██████████| 1000/1000 [13:24<00:00,  1.24it/s]"
     ]
    },
    {
     "name": "stdout",
     "output_type": "stream",
     "text": [
      "{'T': 0.7, 'f1_score': 0.08158665380313677, 'precision': 0.049276019966173014, 'recall': 0.23696870505381143, 'tot_tp': 4778, 'tot_fp': 92186, 'tot_fn': 15385}\n"
     ]
    },
    {
     "name": "stderr",
     "output_type": "stream",
     "text": [
      "\n"
     ]
    }
   ],
   "source": [
    "T = [0.2, 0.4, 0.5, 0.6, 0.7]\n",
    "\n",
    "report_T = []\n",
    "\n",
    "for t in T:\n",
    "    f1_score, precision, recall, tot_tp, tot_fp, tot_fn = testing(classifier, \n",
    "                                                                    val_names_positive, \n",
    "                                                                    image_folder, \n",
    "                                                                    annotations_folder, \n",
    "                                                                    t,\n",
    "                                                                    preprocessing=True)\n",
    "    \n",
    "    print({'T':t, 'f1_score':f1_score, 'precision':precision, \n",
    "                    'recall': recall, 'tot_tp':tot_tp, 'tot_fp':tot_fp, 'tot_fn':tot_fn})\n",
    "\n",
    "    report_T.append({'T':t, 'f1_score':f1_score, 'precision':precision, \n",
    "                    'recall': recall, 'tot_tp':tot_tp, 'tot_fp':tot_fp, 'tot_fn':tot_fn})"
   ]
  },
  {
   "cell_type": "code",
   "execution_count": 21,
   "metadata": {},
   "outputs": [
    {
     "data": {
      "text/plain": [
       "[{'T': 0.5,\n",
       "  'f1_score': 0.08158665380313677,\n",
       "  'precision': 0.049276019966173014,\n",
       "  'recall': 0.23696870505381143,\n",
       "  'tot_tp': 4778,\n",
       "  'tot_fp': 92186,\n",
       "  'tot_fn': 15385},\n",
       " {'T': 0.6,\n",
       "  'f1_score': 0.08158665380313677,\n",
       "  'precision': 0.049276019966173014,\n",
       "  'recall': 0.23696870505381143,\n",
       "  'tot_tp': 4778,\n",
       "  'tot_fp': 92186,\n",
       "  'tot_fn': 15385},\n",
       " {'T': 0.7,\n",
       "  'f1_score': 0.08158665380313677,\n",
       "  'precision': 0.049276019966173014,\n",
       "  'recall': 0.23696870505381143,\n",
       "  'tot_tp': 4778,\n",
       "  'tot_fp': 92186,\n",
       "  'tot_fn': 15385},\n",
       " {'T': 0.4,\n",
       "  'f1_score': 0.07628346118770453,\n",
       "  'precision': 0.046529891037596936,\n",
       "  'recall': 0.21157565838416903,\n",
       "  'tot_tp': 4266,\n",
       "  'tot_fp': 87417,\n",
       "  'tot_fn': 15897},\n",
       " {'T': 0.2,\n",
       "  'f1_score': 0.07467441067962603,\n",
       "  'precision': 0.053243186139869,\n",
       "  'recall': 0.12498140157714625,\n",
       "  'tot_tp': 2520,\n",
       "  'tot_fp': 44810,\n",
       "  'tot_fn': 17643}]"
      ]
     },
     "execution_count": 21,
     "metadata": {},
     "output_type": "execute_result"
    }
   ],
   "source": [
    "sorted(report_T, key=lambda x:x['f1_score'], reverse=True)"
   ]
  },
  {
   "cell_type": "markdown",
   "metadata": {},
   "source": [
    "Anche in questo caso la migliore Threshold è stata = 0.5 "
   ]
  },
  {
   "cell_type": "markdown",
   "metadata": {},
   "source": [
    "# Testing"
   ]
  },
  {
   "cell_type": "markdown",
   "metadata": {},
   "source": [
    "## Test modello senza PCA"
   ]
  },
  {
   "cell_type": "code",
   "execution_count": 37,
   "metadata": {},
   "outputs": [
    {
     "name": "stderr",
     "output_type": "stream",
     "text": [
      "Testing: 100%|██████████| 1000/1000 [02:21<00:00,  7.06it/s]\n"
     ]
    }
   ],
   "source": [
    "f1_score, precision, recall, tot_tp, tot_fp, tot_fn = testing(classifier, \n",
    "                                                                test_names_positive, \n",
    "                                                                image_folder, \n",
    "                                                                annotations_folder, \n",
    "                                                                T=0.5,\n",
    "                                                                preprocessing=False)"
   ]
  },
  {
   "cell_type": "code",
   "execution_count": 39,
   "metadata": {},
   "outputs": [
    {
     "name": "stdout",
     "output_type": "stream",
     "text": [
      "{'f1_score': 0.07826847801059177, 'precision': 0.04682506446849309, 'recall': 0.23826613581562273, 'tot_tp': 4249, 'tot_fp': 86493, 'tot_fn': 13584}\n"
     ]
    }
   ],
   "source": [
    "print({'f1_score':f1_score, 'precision':precision, \n",
    "                    'recall': recall, 'tot_tp':tot_tp, 'tot_fp':tot_fp, 'tot_fn':tot_fn})"
   ]
  },
  {
   "cell_type": "markdown",
   "metadata": {},
   "source": [
    "## Test modello con PCA"
   ]
  },
  {
   "cell_type": "code",
   "execution_count": 22,
   "metadata": {},
   "outputs": [
    {
     "name": "stderr",
     "output_type": "stream",
     "text": [
      "Testing: 100%|██████████| 1000/1000 [13:16<00:00,  1.26it/s]"
     ]
    },
    {
     "name": "stdout",
     "output_type": "stream",
     "text": [
      "{'f1_score': 0.07824737562756731, 'precision': 0.0467307042314947, 'recall': 0.24034094095216732, 'tot_tp': 4286, 'tot_fp': 87431, 'tot_fn': 13547}\n"
     ]
    },
    {
     "name": "stderr",
     "output_type": "stream",
     "text": [
      "\n"
     ]
    }
   ],
   "source": [
    "f1_score, precision, recall, tot_tp, tot_fp, tot_fn = testing(classifier, \n",
    "                                                                test_names_positive, \n",
    "                                                                image_folder, \n",
    "                                                                annotations_folder, \n",
    "                                                                T=0.5,\n",
    "                                                                preprocessing=True)\n",
    "\n",
    "print({'f1_score':f1_score, 'precision':precision, \n",
    "                    'recall': recall, 'tot_tp':tot_tp, 'tot_fp':tot_fp, 'tot_fn':tot_fn})"
   ]
  },
  {
   "cell_type": "markdown",
   "metadata": {},
   "source": [
    "Miglior modello scelto il modello senza PCA"
   ]
  },
  {
   "cell_type": "markdown",
   "metadata": {},
   "source": [
    "## Testing su immagine con detector e miglior modello ottenuto"
   ]
  },
  {
   "cell_type": "code",
   "execution_count": 28,
   "metadata": {},
   "outputs": [],
   "source": [
    "# Inizializziamo il rilevatore di persone HOG\n",
    "hog_detector = cv2.HOGDescriptor()\n",
    "hog_detector.setSVMDetector(cv2.HOGDescriptor_getDefaultPeopleDetector())"
   ]
  },
  {
   "cell_type": "code",
   "execution_count": 92,
   "metadata": {},
   "outputs": [],
   "source": [
    "def my_detector(test_image, classifier, scales=scales, T=0.5, preprocessing=False):\n",
    "    detections = detect_pedestrians(test_image, classifier, scales=scales, \n",
    "                                stride=64, window_size=(64, 128),sigma=0.5, preprocessing=preprocessing)\n",
    "    best_detections = non_maxima_suppression(T, detections)\n",
    "    return best_detections\n",
    "\n",
    "\n",
    "def visualize_detections_test(image, detections, rects_detector, annotation_path):\n",
    "    image_with_detections = image.copy()\n",
    "\n",
    "    annotations = read_annotations_from_file(annotation_path)\n",
    "\n",
    "    for detection in detections:\n",
    "        x1 = detection['x1']\n",
    "        y1 = detection['y1']\n",
    "        x2 = detection['x2']\n",
    "        y2 = detection['y2']\n",
    "\n",
    "        # Disegno il rettangolo sulla copia dell'immagine\n",
    "        cv2.rectangle(image_with_detections, (x1, y1), (x2, y2), (255, 0, 0), 2)\n",
    "\n",
    "    # Disegno le bounding box del detector di opencv\n",
    "    for (x, y, w, h) in rects_detector:\n",
    "        cv2.rectangle(image_with_detections, (x, y), (x + w, y + h), (0, 0, 255), 2)\n",
    "\n",
    "    # Disegno le annotation\n",
    "    for annotation in annotations:\n",
    "        classe = annotation['class_label']\n",
    "        x1 = annotation['x1']\n",
    "        y1 = annotation['y1']\n",
    "        x2 = annotation['x2']\n",
    "        y2 = annotation['y2']\n",
    "        if classe == 1:\n",
    "            cv2.rectangle(image_with_detections, (x1, y1), (x2, y2), (0, 255, 0), 2)\n",
    "\n",
    "    return image_with_detections"
   ]
  },
  {
   "cell_type": "code",
   "execution_count": 93,
   "metadata": {},
   "outputs": [],
   "source": [
    "image_name = '005907.jpg'\n",
    "image_path = image_folder + image_name\n",
    "annotation_path = annotations_folder + '/' + image_name + '.txt'\n",
    "\n",
    "# Carica l'immagine di test\n",
    "test_image = cv2.imread(image_folder + image_name)\n",
    "\n",
    "# Applico il mio detector\n",
    "detections = my_detector(test_image, classifier, scales=scales, T=0.5, preprocessing=False)\n",
    "\n",
    "# openCv detector\n",
    "(rects, _) = hog_detector.detectMultiScale(test_image, winStride=(4, 4), padding=(8, 8), scale=1.05)\n",
    "\n",
    "# Visualizza le detection sull'immagine\n",
    "image_with_detections = visualize_detections_test(test_image, detections, rects, annotation_path)\n",
    "\n",
    "# Mostra l'immagine con le detection\n",
    "cv2.imshow('Detections', image_with_detections)\n",
    "cv2.waitKey(0)\n",
    "cv2.destroyAllWindows()"
   ]
  },
  {
   "cell_type": "markdown",
   "metadata": {},
   "source": [
    "# Inferenza su singola immagine"
   ]
  },
  {
   "cell_type": "code",
   "execution_count": null,
   "metadata": {},
   "outputs": [],
   "source": [
    "def visualize_detections(image, detections):\n",
    "    image_with_detections = image.copy()\n",
    "    for detection in detections:\n",
    "        x1 = detection['x1']\n",
    "        y1 = detection['y1']\n",
    "        x2 = detection['x2']\n",
    "        y2 = detection['y2']\n",
    "        scale = detection['scale']\n",
    "\n",
    "        # Seleziona il colore del rettangolo in base alla scala\n",
    "        if scale == scales[0]: \n",
    "            color = (0, 0, 255)  # Rosso\n",
    "        elif scale == scales[1]:\n",
    "            color = (0, 255, 0)  # Verde\n",
    "        else: \n",
    "            color = (255, 0, 0)  # Blu\n",
    "\n",
    "        cv2.rectangle(image_with_detections, (x1, y1), (x2, y2), color, 2)\n",
    "\n",
    "\n",
    "    return image_with_detections"
   ]
  },
  {
   "cell_type": "code",
   "execution_count": null,
   "metadata": {},
   "outputs": [],
   "source": [
    "# Carica l'immagine di test\n",
    "test_image = cv2.imread(image_folder + '005907.jpg')\n",
    "detections = detect_pedestrians(test_image, classifier, scales=scales, stride=64, window_size=(64, 128),sigma=0.5, preprocessing=False)\n",
    "\n",
    "# Visualizza le detection sull'immagine\n",
    "image_with_detections = visualize_detections(test_image, detections)\n",
    "\n",
    "# Mostra l'immagine con le detection\n",
    "cv2.imshow('Detections', image_with_detections)\n",
    "cv2.waitKey(0)\n",
    "cv2.destroyAllWindows()\n",
    "\n",
    "best_annotation = non_maxima_suppression(0.3, detections)\n",
    "image_with_detections = visualize_detections(test_image, best_annotation)\n",
    "\n",
    "# Mostra l'immagine con le detection \n",
    "cv2.imshow('Detections', image_with_detections)\n",
    "cv2.waitKey(0)\n",
    "cv2.destroyAllWindows()"
   ]
  }
 ],
 "metadata": {
  "kernelspec": {
   "display_name": "visione",
   "language": "python",
   "name": "python3"
  },
  "language_info": {
   "codemirror_mode": {
    "name": "ipython",
    "version": 3
   },
   "file_extension": ".py",
   "mimetype": "text/x-python",
   "name": "python",
   "nbconvert_exporter": "python",
   "pygments_lexer": "ipython3",
   "version": "3.11.7"
  }
 },
 "nbformat": 4,
 "nbformat_minor": 2
}
